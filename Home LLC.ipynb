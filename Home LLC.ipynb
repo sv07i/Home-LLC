{
 "cells": [
  {
   "cell_type": "code",
   "execution_count": 55,
   "id": "9f053d74",
   "metadata": {},
   "outputs": [],
   "source": [
    "import pandas as pd\n",
    "import numpy as np"
   ]
  },
  {
   "cell_type": "code",
   "execution_count": 56,
   "id": "7df45d65",
   "metadata": {},
   "outputs": [],
   "source": [
    "df = pd.read_csv(\"CSUSHPISA.csv\")"
   ]
  },
  {
   "cell_type": "code",
   "execution_count": 57,
   "id": "647defd3",
   "metadata": {},
   "outputs": [
    {
     "data": {
      "text/html": [
       "<div>\n",
       "<style scoped>\n",
       "    .dataframe tbody tr th:only-of-type {\n",
       "        vertical-align: middle;\n",
       "    }\n",
       "\n",
       "    .dataframe tbody tr th {\n",
       "        vertical-align: top;\n",
       "    }\n",
       "\n",
       "    .dataframe thead th {\n",
       "        text-align: right;\n",
       "    }\n",
       "</style>\n",
       "<table border=\"1\" class=\"dataframe\">\n",
       "  <thead>\n",
       "    <tr style=\"text-align: right;\">\n",
       "      <th></th>\n",
       "      <th>DATE</th>\n",
       "      <th>CSUSHPISA</th>\n",
       "    </tr>\n",
       "  </thead>\n",
       "  <tbody>\n",
       "    <tr>\n",
       "      <th>0</th>\n",
       "      <td>1987-01-01</td>\n",
       "      <td>63.965</td>\n",
       "    </tr>\n",
       "    <tr>\n",
       "      <th>1</th>\n",
       "      <td>1987-02-01</td>\n",
       "      <td>64.424</td>\n",
       "    </tr>\n",
       "    <tr>\n",
       "      <th>2</th>\n",
       "      <td>1987-03-01</td>\n",
       "      <td>64.735</td>\n",
       "    </tr>\n",
       "    <tr>\n",
       "      <th>3</th>\n",
       "      <td>1987-04-01</td>\n",
       "      <td>65.132</td>\n",
       "    </tr>\n",
       "    <tr>\n",
       "      <th>4</th>\n",
       "      <td>1987-05-01</td>\n",
       "      <td>65.565</td>\n",
       "    </tr>\n",
       "  </tbody>\n",
       "</table>\n",
       "</div>"
      ],
      "text/plain": [
       "         DATE  CSUSHPISA\n",
       "0  1987-01-01     63.965\n",
       "1  1987-02-01     64.424\n",
       "2  1987-03-01     64.735\n",
       "3  1987-04-01     65.132\n",
       "4  1987-05-01     65.565"
      ]
     },
     "execution_count": 57,
     "metadata": {},
     "output_type": "execute_result"
    }
   ],
   "source": [
    "df.head()"
   ]
  },
  {
   "cell_type": "code",
   "execution_count": 58,
   "id": "392c198b",
   "metadata": {},
   "outputs": [
    {
     "name": "stdout",
     "output_type": "stream",
     "text": [
      "<class 'pandas.core.frame.DataFrame'>\n",
      "RangeIndex: 425 entries, 0 to 424\n",
      "Data columns (total 2 columns):\n",
      " #   Column     Non-Null Count  Dtype  \n",
      "---  ------     --------------  -----  \n",
      " 0   DATE       425 non-null    object \n",
      " 1   CSUSHPISA  425 non-null    float64\n",
      "dtypes: float64(1), object(1)\n",
      "memory usage: 6.8+ KB\n"
     ]
    }
   ],
   "source": [
    "df.info()"
   ]
  },
  {
   "cell_type": "code",
   "execution_count": 54,
   "id": "519a432f",
   "metadata": {},
   "outputs": [
    {
     "data": {
      "text/plain": [
       "(425, 3)"
      ]
     },
     "execution_count": 54,
     "metadata": {},
     "output_type": "execute_result"
    }
   ],
   "source": [
    "df.shape"
   ]
  },
  {
   "cell_type": "code",
   "execution_count": 59,
   "id": "a7b12f26",
   "metadata": {},
   "outputs": [],
   "source": [
    "df['DATE'] = pd.to_datetime(df['DATE'])"
   ]
  },
  {
   "cell_type": "code",
   "execution_count": 60,
   "id": "a7c9b4a6",
   "metadata": {},
   "outputs": [],
   "source": [
    "df['date_year'] = df['DATE'].dt.year"
   ]
  },
  {
   "cell_type": "code",
   "execution_count": 61,
   "id": "0b9ac203",
   "metadata": {},
   "outputs": [
    {
     "name": "stdout",
     "output_type": "stream",
     "text": [
      "<class 'pandas.core.frame.DataFrame'>\n",
      "RangeIndex: 425 entries, 0 to 424\n",
      "Data columns (total 3 columns):\n",
      " #   Column     Non-Null Count  Dtype         \n",
      "---  ------     --------------  -----         \n",
      " 0   DATE       425 non-null    datetime64[ns]\n",
      " 1   CSUSHPISA  425 non-null    float64       \n",
      " 2   date_year  425 non-null    int64         \n",
      "dtypes: datetime64[ns](1), float64(1), int64(1)\n",
      "memory usage: 10.1 KB\n"
     ]
    }
   ],
   "source": [
    "df.info()"
   ]
  },
  {
   "cell_type": "code",
   "execution_count": 62,
   "id": "e72e1f12",
   "metadata": {},
   "outputs": [
    {
     "data": {
      "text/html": [
       "<div>\n",
       "<style scoped>\n",
       "    .dataframe tbody tr th:only-of-type {\n",
       "        vertical-align: middle;\n",
       "    }\n",
       "\n",
       "    .dataframe tbody tr th {\n",
       "        vertical-align: top;\n",
       "    }\n",
       "\n",
       "    .dataframe thead th {\n",
       "        text-align: right;\n",
       "    }\n",
       "</style>\n",
       "<table border=\"1\" class=\"dataframe\">\n",
       "  <thead>\n",
       "    <tr style=\"text-align: right;\">\n",
       "      <th></th>\n",
       "      <th>CSUSHPISA</th>\n",
       "      <th>date_year</th>\n",
       "    </tr>\n",
       "  </thead>\n",
       "  <tbody>\n",
       "    <tr>\n",
       "      <th>0</th>\n",
       "      <td>63.965</td>\n",
       "      <td>1987</td>\n",
       "    </tr>\n",
       "    <tr>\n",
       "      <th>1</th>\n",
       "      <td>64.424</td>\n",
       "      <td>1987</td>\n",
       "    </tr>\n",
       "    <tr>\n",
       "      <th>2</th>\n",
       "      <td>64.735</td>\n",
       "      <td>1987</td>\n",
       "    </tr>\n",
       "    <tr>\n",
       "      <th>3</th>\n",
       "      <td>65.132</td>\n",
       "      <td>1987</td>\n",
       "    </tr>\n",
       "    <tr>\n",
       "      <th>4</th>\n",
       "      <td>65.565</td>\n",
       "      <td>1987</td>\n",
       "    </tr>\n",
       "    <tr>\n",
       "      <th>...</th>\n",
       "      <td>...</td>\n",
       "      <td>...</td>\n",
       "    </tr>\n",
       "    <tr>\n",
       "      <th>420</th>\n",
       "      <td>284.767</td>\n",
       "      <td>2022</td>\n",
       "    </tr>\n",
       "    <tr>\n",
       "      <th>421</th>\n",
       "      <td>290.371</td>\n",
       "      <td>2022</td>\n",
       "    </tr>\n",
       "    <tr>\n",
       "      <th>422</th>\n",
       "      <td>296.496</td>\n",
       "      <td>2022</td>\n",
       "    </tr>\n",
       "    <tr>\n",
       "      <th>423</th>\n",
       "      <td>301.704</td>\n",
       "      <td>2022</td>\n",
       "    </tr>\n",
       "    <tr>\n",
       "      <th>424</th>\n",
       "      <td>304.831</td>\n",
       "      <td>2022</td>\n",
       "    </tr>\n",
       "  </tbody>\n",
       "</table>\n",
       "<p>425 rows × 2 columns</p>\n",
       "</div>"
      ],
      "text/plain": [
       "     CSUSHPISA  date_year\n",
       "0       63.965       1987\n",
       "1       64.424       1987\n",
       "2       64.735       1987\n",
       "3       65.132       1987\n",
       "4       65.565       1987\n",
       "..         ...        ...\n",
       "420    284.767       2022\n",
       "421    290.371       2022\n",
       "422    296.496       2022\n",
       "423    301.704       2022\n",
       "424    304.831       2022\n",
       "\n",
       "[425 rows x 2 columns]"
      ]
     },
     "execution_count": 62,
     "metadata": {},
     "output_type": "execute_result"
    }
   ],
   "source": [
    "df.drop(columns=[\"DATE\"] ,axis = 1)"
   ]
  },
  {
   "cell_type": "code",
   "execution_count": 67,
   "id": "a0ccacce",
   "metadata": {},
   "outputs": [
    {
     "data": {
      "text/plain": [
       "0      1987\n",
       "1      1987\n",
       "2      1987\n",
       "3      1987\n",
       "4      1987\n",
       "       ... \n",
       "420    2022\n",
       "421    2022\n",
       "422    2022\n",
       "423    2022\n",
       "424    2022\n",
       "Name: date_year, Length: 425, dtype: int32"
      ]
     },
     "execution_count": 67,
     "metadata": {},
     "output_type": "execute_result"
    }
   ],
   "source": [
    "df['date_year'].astype(int)"
   ]
  },
  {
   "cell_type": "code",
   "execution_count": 68,
   "id": "fddbd16e",
   "metadata": {},
   "outputs": [
    {
     "data": {
      "text/html": [
       "<div>\n",
       "<style scoped>\n",
       "    .dataframe tbody tr th:only-of-type {\n",
       "        vertical-align: middle;\n",
       "    }\n",
       "\n",
       "    .dataframe tbody tr th {\n",
       "        vertical-align: top;\n",
       "    }\n",
       "\n",
       "    .dataframe thead th {\n",
       "        text-align: right;\n",
       "    }\n",
       "</style>\n",
       "<table border=\"1\" class=\"dataframe\">\n",
       "  <thead>\n",
       "    <tr style=\"text-align: right;\">\n",
       "      <th></th>\n",
       "      <th>DATE</th>\n",
       "      <th>CSUSHPISA</th>\n",
       "      <th>date_year</th>\n",
       "    </tr>\n",
       "  </thead>\n",
       "  <tbody>\n",
       "    <tr>\n",
       "      <th>0</th>\n",
       "      <td>1987-01-01</td>\n",
       "      <td>63.965</td>\n",
       "      <td>1987</td>\n",
       "    </tr>\n",
       "    <tr>\n",
       "      <th>1</th>\n",
       "      <td>1987-02-01</td>\n",
       "      <td>64.424</td>\n",
       "      <td>1987</td>\n",
       "    </tr>\n",
       "    <tr>\n",
       "      <th>2</th>\n",
       "      <td>1987-03-01</td>\n",
       "      <td>64.735</td>\n",
       "      <td>1987</td>\n",
       "    </tr>\n",
       "    <tr>\n",
       "      <th>3</th>\n",
       "      <td>1987-04-01</td>\n",
       "      <td>65.132</td>\n",
       "      <td>1987</td>\n",
       "    </tr>\n",
       "    <tr>\n",
       "      <th>4</th>\n",
       "      <td>1987-05-01</td>\n",
       "      <td>65.565</td>\n",
       "      <td>1987</td>\n",
       "    </tr>\n",
       "  </tbody>\n",
       "</table>\n",
       "</div>"
      ],
      "text/plain": [
       "        DATE  CSUSHPISA  date_year\n",
       "0 1987-01-01     63.965       1987\n",
       "1 1987-02-01     64.424       1987\n",
       "2 1987-03-01     64.735       1987\n",
       "3 1987-04-01     65.132       1987\n",
       "4 1987-05-01     65.565       1987"
      ]
     },
     "execution_count": 68,
     "metadata": {},
     "output_type": "execute_result"
    }
   ],
   "source": [
    "df.head()"
   ]
  },
  {
   "cell_type": "code",
   "execution_count": 80,
   "id": "f05f0c4f",
   "metadata": {},
   "outputs": [],
   "source": [
    "import matplotlib.pyplot as plt\n",
    "import seaborn as sns"
   ]
  },
  {
   "cell_type": "code",
   "execution_count": 81,
   "id": "5cbbde3e",
   "metadata": {},
   "outputs": [
    {
     "name": "stderr",
     "output_type": "stream",
     "text": [
      "C:\\Users\\patel\\anaconda3\\lib\\site-packages\\seaborn\\distributions.py:2619: FutureWarning: `distplot` is a deprecated function and will be removed in a future version. Please adapt your code to use either `displot` (a figure-level function with similar flexibility) or `histplot` (an axes-level function for histograms).\n",
      "  warnings.warn(msg, FutureWarning)\n"
     ]
    },
    {
     "data": {
      "text/plain": [
       "<AxesSubplot:xlabel='CSUSHPISA', ylabel='Density'>"
      ]
     },
     "execution_count": 81,
     "metadata": {},
     "output_type": "execute_result"
    },
    {
     "data": {
      "image/png": "[encoded data removed]",
      "text/plain": [
       "<Figure size 432x288 with 1 Axes>"
      ]
     },
     "metadata": {
      "needs_background": "light"
     },
     "output_type": "display_data"
    }
   ],
   "source": [
    "sns.distplot(df['CSUSHPISA'])"
   ]
  },
  {
   "cell_type": "code",
   "execution_count": 82,
   "id": "614326f5",
   "metadata": {},
   "outputs": [
    {
     "data": {
      "text/plain": [
       "<AxesSubplot:xlabel='DATE', ylabel='CSUSHPISA'>"
      ]
     },
     "execution_count": 82,
     "metadata": {},
     "output_type": "execute_result"
    },
    {
     "data": {
      "image/png": "[encoded data removed]",
      "text/plain": [
       "<Figure size 432x288 with 1 Axes>"
      ]
     },
     "metadata": {
      "needs_background": "light"
     },
     "output_type": "display_data"
    }
   ],
   "source": [
    "sns.scatterplot(x=df['DATE'],y=df['CSUSHPISA'])"
   ]
  },
  {
   "cell_type": "code",
   "execution_count": null,
   "id": "fb2de924",
   "metadata": {},
   "outputs": [],
   "source": []
  },
  {
   "cell_type": "code",
   "execution_count": 83,
   "id": "504de17e",
   "metadata": {},
   "outputs": [
    {
     "name": "stderr",
     "output_type": "stream",
     "text": [
      "C:\\Users\\patel\\anaconda3\\lib\\site-packages\\seaborn\\_decorators.py:36: FutureWarning: Pass the following variables as keyword args: x, y. From version 0.12, the only valid positional argument will be `data`, and passing other arguments without an explicit keyword will result in an error or misinterpretation.\n",
      "  warnings.warn(\n"
     ]
    },
    {
     "data": {
      "text/plain": [
       "<AxesSubplot:xlabel='DATE', ylabel='CSUSHPISA'>"
      ]
     },
     "execution_count": 83,
     "metadata": {},
     "output_type": "execute_result"
    },
    {
     "data": {
      "image/png": "[encoded data removed]",
      "text/plain": [
       "<Figure size 432x288 with 1 Axes>"
      ]
     },
     "metadata": {
      "needs_background": "light"
     },
     "output_type": "display_data"
    }
   ],
   "source": [
    "sns.lineplot(df['DATE'],df['CSUSHPISA'])"
   ]
  },
  {
   "cell_type": "code",
   "execution_count": 84,
   "id": "4bbd03dc",
   "metadata": {},
   "outputs": [
    {
     "data": {
      "text/html": [
       "<div>\n",
       "<style scoped>\n",
       "    .dataframe tbody tr th:only-of-type {\n",
       "        vertical-align: middle;\n",
       "    }\n",
       "\n",
       "    .dataframe tbody tr th {\n",
       "        vertical-align: top;\n",
       "    }\n",
       "\n",
       "    .dataframe thead th {\n",
       "        text-align: right;\n",
       "    }\n",
       "</style>\n",
       "<table border=\"1\" class=\"dataframe\">\n",
       "  <thead>\n",
       "    <tr style=\"text-align: right;\">\n",
       "      <th></th>\n",
       "      <th>DATE</th>\n",
       "      <th>CSUSHPISA</th>\n",
       "      <th>date_year</th>\n",
       "    </tr>\n",
       "  </thead>\n",
       "  <tbody>\n",
       "    <tr>\n",
       "      <th>105</th>\n",
       "      <td>1995-10-01</td>\n",
       "      <td>81.483</td>\n",
       "      <td>1995</td>\n",
       "    </tr>\n",
       "  </tbody>\n",
       "</table>\n",
       "</div>"
      ],
      "text/plain": [
       "          DATE  CSUSHPISA  date_year\n",
       "105 1995-10-01     81.483       1995"
      ]
     },
     "execution_count": 84,
     "metadata": {},
     "output_type": "execute_result"
    }
   ],
   "source": [
    "df.sample()"
   ]
  },
  {
   "cell_type": "code",
   "execution_count": 69,
   "id": "4154a95c",
   "metadata": {},
   "outputs": [],
   "source": [
    "x = df.iloc[:,-1].values.reshape(-1,1)"
   ]
  },
  {
   "cell_type": "code",
   "execution_count": 70,
   "id": "02abec9d",
   "metadata": {},
   "outputs": [
    {
     "data": {
      "text/plain": [
       "array([[1987],\n",
       "       [1987],\n",
       "       [1987],\n",
       "       [1987],\n",
       "       [1987],\n",
       "       [1987],\n",
       "       [1987],\n",
       "       [1987],\n",
       "       [1987],\n",
       "       [1987],\n",
       "       [1987],\n",
       "       [1987],\n",
       "       [1988],\n",
       "       [1988],\n",
       "       [1988],\n",
       "       [1988],\n",
       "       [1988],\n",
       "       [1988],\n",
       "       [1988],\n",
       "       [1988],\n",
       "       [1988],\n",
       "       [1988],\n",
       "       [1988],\n",
       "       [1988],\n",
       "       [1989],\n",
       "       [1989],\n",
       "       [1989],\n",
       "       [1989],\n",
       "       [1989],\n",
       "       [1989],\n",
       "       [1989],\n",
       "       [1989],\n",
       "       [1989],\n",
       "       [1989],\n",
       "       [1989],\n",
       "       [1989],\n",
       "       [1990],\n",
       "       [1990],\n",
       "       [1990],\n",
       "       [1990],\n",
       "       [1990],\n",
       "       [1990],\n",
       "       [1990],\n",
       "       [1990],\n",
       "       [1990],\n",
       "       [1990],\n",
       "       [1990],\n",
       "       [1990],\n",
       "       [1991],\n",
       "       [1991],\n",
       "       [1991],\n",
       "       [1991],\n",
       "       [1991],\n",
       "       [1991],\n",
       "       [1991],\n",
       "       [1991],\n",
       "       [1991],\n",
       "       [1991],\n",
       "       [1991],\n",
       "       [1991],\n",
       "       [1992],\n",
       "       [1992],\n",
       "       [1992],\n",
       "       [1992],\n",
       "       [1992],\n",
       "       [1992],\n",
       "       [1992],\n",
       "       [1992],\n",
       "       [1992],\n",
       "       [1992],\n",
       "       [1992],\n",
       "       [1992],\n",
       "       [1993],\n",
       "       [1993],\n",
       "       [1993],\n",
       "       [1993],\n",
       "       [1993],\n",
       "       [1993],\n",
       "       [1993],\n",
       "       [1993],\n",
       "       [1993],\n",
       "       [1993],\n",
       "       [1993],\n",
       "       [1993],\n",
       "       [1994],\n",
       "       [1994],\n",
       "       [1994],\n",
       "       [1994],\n",
       "       [1994],\n",
       "       [1994],\n",
       "       [1994],\n",
       "       [1994],\n",
       "       [1994],\n",
       "       [1994],\n",
       "       [1994],\n",
       "       [1994],\n",
       "       [1995],\n",
       "       [1995],\n",
       "       [1995],\n",
       "       [1995],\n",
       "       [1995],\n",
       "       [1995],\n",
       "       [1995],\n",
       "       [1995],\n",
       "       [1995],\n",
       "       [1995],\n",
       "       [1995],\n",
       "       [1995],\n",
       "       [1996],\n",
       "       [1996],\n",
       "       [1996],\n",
       "       [1996],\n",
       "       [1996],\n",
       "       [1996],\n",
       "       [1996],\n",
       "       [1996],\n",
       "       [1996],\n",
       "       [1996],\n",
       "       [1996],\n",
       "       [1996],\n",
       "       [1997],\n",
       "       [1997],\n",
       "       [1997],\n",
       "       [1997],\n",
       "       [1997],\n",
       "       [1997],\n",
       "       [1997],\n",
       "       [1997],\n",
       "       [1997],\n",
       "       [1997],\n",
       "       [1997],\n",
       "       [1997],\n",
       "       [1998],\n",
       "       [1998],\n",
       "       [1998],\n",
       "       [1998],\n",
       "       [1998],\n",
       "       [1998],\n",
       "       [1998],\n",
       "       [1998],\n",
       "       [1998],\n",
       "       [1998],\n",
       "       [1998],\n",
       "       [1998],\n",
       "       [1999],\n",
       "       [1999],\n",
       "       [1999],\n",
       "       [1999],\n",
       "       [1999],\n",
       "       [1999],\n",
       "       [1999],\n",
       "       [1999],\n",
       "       [1999],\n",
       "       [1999],\n",
       "       [1999],\n",
       "       [1999],\n",
       "       [2000],\n",
       "       [2000],\n",
       "       [2000],\n",
       "       [2000],\n",
       "       [2000],\n",
       "       [2000],\n",
       "       [2000],\n",
       "       [2000],\n",
       "       [2000],\n",
       "       [2000],\n",
       "       [2000],\n",
       "       [2000],\n",
       "       [2001],\n",
       "       [2001],\n",
       "       [2001],\n",
       "       [2001],\n",
       "       [2001],\n",
       "       [2001],\n",
       "       [2001],\n",
       "       [2001],\n",
       "       [2001],\n",
       "       [2001],\n",
       "       [2001],\n",
       "       [2001],\n",
       "       [2002],\n",
       "       [2002],\n",
       "       [2002],\n",
       "       [2002],\n",
       "       [2002],\n",
       "       [2002],\n",
       "       [2002],\n",
       "       [2002],\n",
       "       [2002],\n",
       "       [2002],\n",
       "       [2002],\n",
       "       [2002],\n",
       "       [2003],\n",
       "       [2003],\n",
       "       [2003],\n",
       "       [2003],\n",
       "       [2003],\n",
       "       [2003],\n",
       "       [2003],\n",
       "       [2003],\n",
       "       [2003],\n",
       "       [2003],\n",
       "       [2003],\n",
       "       [2003],\n",
       "       [2004],\n",
       "       [2004],\n",
       "       [2004],\n",
       "       [2004],\n",
       "       [2004],\n",
       "       [2004],\n",
       "       [2004],\n",
       "       [2004],\n",
       "       [2004],\n",
       "       [2004],\n",
       "       [2004],\n",
       "       [2004],\n",
       "       [2005],\n",
       "       [2005],\n",
       "       [2005],\n",
       "       [2005],\n",
       "       [2005],\n",
       "       [2005],\n",
       "       [2005],\n",
       "       [2005],\n",
       "       [2005],\n",
       "       [2005],\n",
       "       [2005],\n",
       "       [2005],\n",
       "       [2006],\n",
       "       [2006],\n",
       "       [2006],\n",
       "       [2006],\n",
       "       [2006],\n",
       "       [2006],\n",
       "       [2006],\n",
       "       [2006],\n",
       "       [2006],\n",
       "       [2006],\n",
       "       [2006],\n",
       "       [2006],\n",
       "       [2007],\n",
       "       [2007],\n",
       "       [2007],\n",
       "       [2007],\n",
       "       [2007],\n",
       "       [2007],\n",
       "       [2007],\n",
       "       [2007],\n",
       "       [2007],\n",
       "       [2007],\n",
       "       [2007],\n",
       "       [2007],\n",
       "       [2008],\n",
       "       [2008],\n",
       "       [2008],\n",
       "       [2008],\n",
       "       [2008],\n",
       "       [2008],\n",
       "       [2008],\n",
       "       [2008],\n",
       "       [2008],\n",
       "       [2008],\n",
       "       [2008],\n",
       "       [2008],\n",
       "       [2009],\n",
       "       [2009],\n",
       "       [2009],\n",
       "       [2009],\n",
       "       [2009],\n",
       "       [2009],\n",
       "       [2009],\n",
       "       [2009],\n",
       "       [2009],\n",
       "       [2009],\n",
       "       [2009],\n",
       "       [2009],\n",
       "       [2010],\n",
       "       [2010],\n",
       "       [2010],\n",
       "       [2010],\n",
       "       [2010],\n",
       "       [2010],\n",
       "       [2010],\n",
       "       [2010],\n",
       "       [2010],\n",
       "       [2010],\n",
       "       [2010],\n",
       "       [2010],\n",
       "       [2011],\n",
       "       [2011],\n",
       "       [2011],\n",
       "       [2011],\n",
       "       [2011],\n",
       "       [2011],\n",
       "       [2011],\n",
       "       [2011],\n",
       "       [2011],\n",
       "       [2011],\n",
       "       [2011],\n",
       "       [2011],\n",
       "       [2012],\n",
       "       [2012],\n",
       "       [2012],\n",
       "       [2012],\n",
       "       [2012],\n",
       "       [2012],\n",
       "       [2012],\n",
       "       [2012],\n",
       "       [2012],\n",
       "       [2012],\n",
       "       [2012],\n",
       "       [2012],\n",
       "       [2013],\n",
       "       [2013],\n",
       "       [2013],\n",
       "       [2013],\n",
       "       [2013],\n",
       "       [2013],\n",
       "       [2013],\n",
       "       [2013],\n",
       "       [2013],\n",
       "       [2013],\n",
       "       [2013],\n",
       "       [2013],\n",
       "       [2014],\n",
       "       [2014],\n",
       "       [2014],\n",
       "       [2014],\n",
       "       [2014],\n",
       "       [2014],\n",
       "       [2014],\n",
       "       [2014],\n",
       "       [2014],\n",
       "       [2014],\n",
       "       [2014],\n",
       "       [2014],\n",
       "       [2015],\n",
       "       [2015],\n",
       "       [2015],\n",
       "       [2015],\n",
       "       [2015],\n",
       "       [2015],\n",
       "       [2015],\n",
       "       [2015],\n",
       "       [2015],\n",
       "       [2015],\n",
       "       [2015],\n",
       "       [2015],\n",
       "       [2016],\n",
       "       [2016],\n",
       "       [2016],\n",
       "       [2016],\n",
       "       [2016],\n",
       "       [2016],\n",
       "       [2016],\n",
       "       [2016],\n",
       "       [2016],\n",
       "       [2016],\n",
       "       [2016],\n",
       "       [2016],\n",
       "       [2017],\n",
       "       [2017],\n",
       "       [2017],\n",
       "       [2017],\n",
       "       [2017],\n",
       "       [2017],\n",
       "       [2017],\n",
       "       [2017],\n",
       "       [2017],\n",
       "       [2017],\n",
       "       [2017],\n",
       "       [2017],\n",
       "       [2018],\n",
       "       [2018],\n",
       "       [2018],\n",
       "       [2018],\n",
       "       [2018],\n",
       "       [2018],\n",
       "       [2018],\n",
       "       [2018],\n",
       "       [2018],\n",
       "       [2018],\n",
       "       [2018],\n",
       "       [2018],\n",
       "       [2019],\n",
       "       [2019],\n",
       "       [2019],\n",
       "       [2019],\n",
       "       [2019],\n",
       "       [2019],\n",
       "       [2019],\n",
       "       [2019],\n",
       "       [2019],\n",
       "       [2019],\n",
       "       [2019],\n",
       "       [2019],\n",
       "       [2020],\n",
       "       [2020],\n",
       "       [2020],\n",
       "       [2020],\n",
       "       [2020],\n",
       "       [2020],\n",
       "       [2020],\n",
       "       [2020],\n",
       "       [2020],\n",
       "       [2020],\n",
       "       [2020],\n",
       "       [2020],\n",
       "       [2021],\n",
       "       [2021],\n",
       "       [2021],\n",
       "       [2021],\n",
       "       [2021],\n",
       "       [2021],\n",
       "       [2021],\n",
       "       [2021],\n",
       "       [2021],\n",
       "       [2021],\n",
       "       [2021],\n",
       "       [2021],\n",
       "       [2022],\n",
       "       [2022],\n",
       "       [2022],\n",
       "       [2022],\n",
       "       [2022]], dtype=int64)"
      ]
     },
     "execution_count": 70,
     "metadata": {},
     "output_type": "execute_result"
    }
   ],
   "source": [
    "x"
   ]
  },
  {
   "cell_type": "code",
   "execution_count": null,
   "id": "86f4c9bb",
   "metadata": {},
   "outputs": [],
   "source": []
  },
  {
   "cell_type": "code",
   "execution_count": 71,
   "id": "24b4c34f",
   "metadata": {},
   "outputs": [],
   "source": [
    "y = df.iloc[:,1]"
   ]
  },
  {
   "cell_type": "code",
   "execution_count": 72,
   "id": "93fa04e0",
   "metadata": {},
   "outputs": [
    {
     "data": {
      "text/plain": [
       "0       63.965\n",
       "1       64.424\n",
       "2       64.735\n",
       "3       65.132\n",
       "4       65.565\n",
       "        ...   \n",
       "420    284.767\n",
       "421    290.371\n",
       "422    296.496\n",
       "423    301.704\n",
       "424    304.831\n",
       "Name: CSUSHPISA, Length: 425, dtype: float64"
      ]
     },
     "execution_count": 72,
     "metadata": {},
     "output_type": "execute_result"
    }
   ],
   "source": [
    "y"
   ]
  },
  {
   "cell_type": "code",
   "execution_count": 73,
   "id": "9ad3f1dd",
   "metadata": {},
   "outputs": [],
   "source": [
    "from sklearn.pipeline import Pipeline\n",
    "from sklearn.linear_model import LinearRegression\n",
    "from sklearn.compose import ColumnTransformer"
   ]
  },
  {
   "cell_type": "code",
   "execution_count": 74,
   "id": "f2c60c3f",
   "metadata": {},
   "outputs": [],
   "source": [
    "from sklearn.model_selection import train_test_split\n",
    "x_train,x_test,y_train,y_test = train_test_split(x,y,test_size=0.2,random_state=2)"
   ]
  },
  {
   "cell_type": "code",
   "execution_count": 75,
   "id": "65e40646",
   "metadata": {},
   "outputs": [],
   "source": [
    "pipe = Pipeline(steps=[\n",
    "    \n",
    "    ('step',LinearRegression())\n",
    " \n",
    "    \n",
    "])"
   ]
  },
  {
   "cell_type": "code",
   "execution_count": 76,
   "id": "c8cd740f",
   "metadata": {},
   "outputs": [
    {
     "data": {
      "text/plain": [
       "Pipeline(steps=[('step', LinearRegression())])"
      ]
     },
     "execution_count": 76,
     "metadata": {},
     "output_type": "execute_result"
    }
   ],
   "source": [
    "pipe.fit(x_train,y_train)"
   ]
  },
  {
   "cell_type": "code",
   "execution_count": 77,
   "id": "94ab30a2",
   "metadata": {},
   "outputs": [],
   "source": [
    "y_pred = pipe.predict(x_test)"
   ]
  },
  {
   "cell_type": "code",
   "execution_count": 53,
   "id": "e21b33ea",
   "metadata": {},
   "outputs": [
    {
     "data": {
      "text/plain": [
       "array([9.29720956e+17, 1.11901773e+18, 1.05591880e+18, 1.43451234e+18,\n",
       "       1.02436934e+18, 8.98171495e+17, 6.14226340e+17, 1.65535857e+18,\n",
       "       5.82676879e+17, 8.35072571e+17, 1.56071019e+18, 1.02436934e+18,\n",
       "       9.92819879e+17, 1.27676503e+18, 6.77325263e+17, 1.62380911e+18,\n",
       "       1.24521557e+18, 1.15056719e+18, 1.52916073e+18, 7.08874725e+17,\n",
       "       1.59225965e+18, 1.37141342e+18, 9.92819879e+17, 9.61270418e+17,\n",
       "       9.61270418e+17, 7.40424187e+17, 8.66622033e+17, 8.35072571e+17,\n",
       "       1.40296288e+18, 1.02436934e+18, 1.43451234e+18, 9.61270418e+17,\n",
       "       8.66622033e+17, 5.82676879e+17, 1.08746826e+18, 7.71973648e+17,\n",
       "       1.37141342e+18, 9.61270418e+17, 7.71973648e+17, 5.51127417e+17,\n",
       "       6.14226340e+17, 6.77325263e+17, 1.15056719e+18, 1.59225965e+18,\n",
       "       1.15056719e+18, 1.05591880e+18, 6.14226340e+17, 1.11901773e+18,\n",
       "       1.52916073e+18, 5.51127417e+17, 1.52916073e+18, 1.40296288e+18,\n",
       "       1.05591880e+18, 1.62380911e+18, 1.11901773e+18, 1.30831450e+18,\n",
       "       1.15056719e+18, 1.24521557e+18, 1.43451234e+18, 1.43451234e+18,\n",
       "       6.14226340e+17, 1.65535857e+18, 1.33986396e+18, 1.15056719e+18,\n",
       "       1.27676503e+18, 1.15056719e+18, 9.92819879e+17, 7.08874725e+17,\n",
       "       1.37141342e+18, 1.43451234e+18, 8.03523110e+17, 1.46606180e+18,\n",
       "       1.27676503e+18, 1.52916073e+18, 9.92819879e+17, 7.08874725e+17,\n",
       "       6.45775802e+17, 1.33986396e+18, 8.35072571e+17, 1.46606180e+18,\n",
       "       6.14226340e+17, 9.92819879e+17, 7.08874725e+17, 1.08746826e+18,\n",
       "       1.27676503e+18])"
      ]
     },
     "execution_count": 53,
     "metadata": {},
     "output_type": "execute_result"
    }
   ],
   "source": [
    "y_pred"
   ]
  },
  {
   "cell_type": "code",
   "execution_count": 78,
   "id": "46bc3213",
   "metadata": {},
   "outputs": [],
   "source": [
    " \n",
    "from sklearn.metrics import r2_score"
   ]
  },
  {
   "cell_type": "code",
   "execution_count": 79,
   "id": "f58820d3",
   "metadata": {},
   "outputs": [
    {
     "name": "stdout",
     "output_type": "stream",
     "text": [
      "R2 score 0.8315535296184234\n"
     ]
    }
   ],
   "source": [
    "\n",
    "print(\"R2 score\",r2_score(y_test,y_pred))"
   ]
  },
  {
   "cell_type": "code",
   "execution_count": null,
   "id": "46181ce6",
   "metadata": {},
   "outputs": [],
   "source": []
  },
  {
   "cell_type": "code",
   "execution_count": 28,
   "id": "f43973a8",
   "metadata": {},
   "outputs": [],
   "source": [
    "#df.drop(columns=[\"DATE\",\"DATA\"],axis = 1 )"
   ]
  },
  {
   "cell_type": "code",
   "execution_count": 45,
   "id": "cfb22e0c",
   "metadata": {},
   "outputs": [],
   "source": [
    "import pickle\n",
    "pickle.dump(pipe,open('home.pkl','wb'))"
   ]
  },
  {
   "cell_type": "code",
   "execution_count": null,
   "id": "f924b3d4",
   "metadata": {},
   "outputs": [],
   "source": []
  }
 ],
 "metadata": {
  "kernelspec": {
   "display_name": "Python 3 (ipykernel)",
   "language": "python",
   "name": "python3"
  },
  "language_info": {
   "codemirror_mode": {
    "name": "ipython",
    "version": 3
   },
   "file_extension": ".py",
   "mimetype": "text/x-python",
   "name": "python",
   "nbconvert_exporter": "python",
   "pygments_lexer": "ipython3",
   "version": "3.9.7"
  }
 },
 "nbformat": 4,
 "nbformat_minor": 5
}
